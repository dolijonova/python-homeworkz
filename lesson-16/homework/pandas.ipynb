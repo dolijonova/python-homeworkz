{
 "cells": [
  {
   "cell_type": "code",
   "execution_count": 15,
   "metadata": {},
   "outputs": [],
   "source": [
    "import sqlite3"
   ]
  },
  {
   "cell_type": "code",
   "execution_count": 16,
   "metadata": {},
   "outputs": [
    {
     "name": "stdout",
     "output_type": "stream",
     "text": [
      "   CustomerId  FirstName     LastName  \\\n",
      "0           1       Luís    Gonçalves   \n",
      "1           2     Leonie       Köhler   \n",
      "2           3   François     Tremblay   \n",
      "3           4      Bjørn       Hansen   \n",
      "4           5  František  Wichterlová   \n",
      "5           6     Helena         Holý   \n",
      "6           7     Astrid       Gruber   \n",
      "7           8       Daan      Peeters   \n",
      "8           9       Kara      Nielsen   \n",
      "9          10    Eduardo      Martins   \n",
      "\n",
      "                                            Company  \\\n",
      "0  Embraer - Empresa Brasileira de Aeronáutica S.A.   \n",
      "1                                              None   \n",
      "2                                              None   \n",
      "3                                              None   \n",
      "4                                  JetBrains s.r.o.   \n",
      "5                                              None   \n",
      "6                                              None   \n",
      "7                                              None   \n",
      "8                                              None   \n",
      "9                                  Woodstock Discos   \n",
      "\n",
      "                                Address                 City State  \\\n",
      "0       Av. Brigadeiro Faria Lima, 2170  São José dos Campos    SP   \n",
      "1               Theodor-Heuss-Straße 34            Stuttgart  None   \n",
      "2                     1498 rue Bélanger             Montréal    QC   \n",
      "3                      Ullevålsveien 14                 Oslo  None   \n",
      "4                         Klanova 9/506               Prague  None   \n",
      "5                         Rilská 3174/6               Prague  None   \n",
      "6  Rotenturmstraße 4, 1010 Innere Stadt               Vienne  None   \n",
      "7                       Grétrystraat 63             Brussels  None   \n",
      "8                   Sønder Boulevard 51           Copenhagen  None   \n",
      "9             Rua Dr. Falcão Filho, 155            São Paulo    SP   \n",
      "\n",
      "          Country PostalCode               Phone                 Fax  \\\n",
      "0          Brazil  12227-000  +55 (12) 3923-5555  +55 (12) 3923-5566   \n",
      "1         Germany      70174    +49 0711 2842222                None   \n",
      "2          Canada    H2G 1A7   +1 (514) 721-4711                None   \n",
      "3          Norway       0171     +47 22 44 22 22                None   \n",
      "4  Czech Republic      14700    +420 2 4172 5555    +420 2 4172 5555   \n",
      "5  Czech Republic      14300    +420 2 4177 0449                None   \n",
      "6         Austria       1010      +43 01 5134505                None   \n",
      "7         Belgium       1000    +32 02 219 03 03                None   \n",
      "8         Denmark       1720      +453 3331 9991                None   \n",
      "9          Brazil  01007-010  +55 (11) 3033-5446  +55 (11) 3033-4564   \n",
      "\n",
      "                      Email  SupportRepId  \n",
      "0      luisg@embraer.com.br             3  \n",
      "1     leonekohler@surfeu.de             5  \n",
      "2       ftremblay@gmail.com             3  \n",
      "3     bjorn.hansen@yahoo.no             4  \n",
      "4  frantisekw@jetbrains.com             4  \n",
      "5           hholy@gmail.com             5  \n",
      "6    astrid.gruber@apple.at             5  \n",
      "7     daan_peeters@apple.be             4  \n",
      "8     kara.nielsen@jubii.dk             4  \n",
      "9  eduardo@woodstock.com.br             4  \n"
     ]
    }
   ],
   "source": [
    "import pandas as pd\n",
    "\n",
    "conn = sqlite3.connect(\"chinook.db\")\n",
    "\n",
    "customers_df = pd.read_sql(\"SELECT * FROM customers\", conn)\n",
    "print(customers_df.head(10))\n",
    "conn.close()"
   ]
  },
  {
   "cell_type": "code",
   "execution_count": 17,
   "metadata": {},
   "outputs": [
    {
     "name": "stdout",
     "output_type": "stream",
     "text": [
      "Shape: (150, 5)\n",
      "Columns: ['sepalLength', 'sepalWidth', 'petalLength', 'petalWidth', 'species']\n"
     ]
    }
   ],
   "source": [
    "iris_df = pd.read_json(\"iris.json\")\n",
    "print(\"Shape:\", iris_df.shape)\n",
    "print(\"Columns:\", iris_df.columns.tolist())"
   ]
  },
  {
   "cell_type": "code",
   "execution_count": 18,
   "metadata": {},
   "outputs": [
    {
     "name": "stdout",
     "output_type": "stream",
     "text": [
      "   PassengerId  Survived  Pclass  \\\n",
      "0            1         0       3   \n",
      "1            2         1       1   \n",
      "2            3         1       3   \n",
      "3            4         1       1   \n",
      "4            5         0       3   \n",
      "\n",
      "                                                Name     Sex   Age  SibSp  \\\n",
      "0                            Braund, Mr. Owen Harris    male  22.0      1   \n",
      "1  Cumings, Mrs. John Bradley (Florence Briggs Th...  female  38.0      1   \n",
      "2                             Heikkinen, Miss. Laina  female  26.0      0   \n",
      "3       Futrelle, Mrs. Jacques Heath (Lily May Peel)  female  35.0      1   \n",
      "4                           Allen, Mr. William Henry    male  35.0      0   \n",
      "\n",
      "   Parch            Ticket     Fare Cabin Embarked  \n",
      "0      0         A/5 21171   7.2500   NaN        S  \n",
      "1      0          PC 17599  71.2833   C85        C  \n",
      "2      0  STON/O2. 3101282   7.9250   NaN        S  \n",
      "3      0            113803  53.1000  C123        S  \n",
      "4      0            373450   8.0500   NaN        S  \n"
     ]
    }
   ],
   "source": [
    "titanic_df=pd.read_excel(\"titanic.xlsx\")\n",
    "print(titanic_df.head())"
   ]
  },
  {
   "cell_type": "code",
   "execution_count": 19,
   "metadata": {},
   "outputs": [
    {
     "ename": "FileNotFoundError",
     "evalue": "[Errno 2] No such file or directory: 'flights.parquet'",
     "output_type": "error",
     "traceback": [
      "\u001b[31m---------------------------------------------------------------------------\u001b[39m",
      "\u001b[31mFileNotFoundError\u001b[39m                         Traceback (most recent call last)",
      "\u001b[36mCell\u001b[39m\u001b[36m \u001b[39m\u001b[32mIn[19]\u001b[39m\u001b[32m, line 1\u001b[39m\n\u001b[32m----> \u001b[39m\u001b[32m1\u001b[39m flights=\u001b[43mpd\u001b[49m\u001b[43m.\u001b[49m\u001b[43mread_parquet\u001b[49m\u001b[43m(\u001b[49m\u001b[33;43m'\u001b[39;49m\u001b[33;43mflights.parquet\u001b[39;49m\u001b[33;43m'\u001b[39;49m\u001b[43m)\u001b[49m\n\u001b[32m      2\u001b[39m \u001b[38;5;28mprint\u001b[39m(flights.info())\n",
      "\u001b[36mFile \u001b[39m\u001b[32mc:\\Users\\User\\AppData\\Local\\Programs\\Python\\Python312\\Lib\\site-packages\\pandas\\io\\parquet.py:667\u001b[39m, in \u001b[36mread_parquet\u001b[39m\u001b[34m(path, engine, columns, storage_options, use_nullable_dtypes, dtype_backend, filesystem, filters, **kwargs)\u001b[39m\n\u001b[32m    664\u001b[39m     use_nullable_dtypes = \u001b[38;5;28;01mFalse\u001b[39;00m\n\u001b[32m    665\u001b[39m check_dtype_backend(dtype_backend)\n\u001b[32m--> \u001b[39m\u001b[32m667\u001b[39m \u001b[38;5;28;01mreturn\u001b[39;00m \u001b[43mimpl\u001b[49m\u001b[43m.\u001b[49m\u001b[43mread\u001b[49m\u001b[43m(\u001b[49m\n\u001b[32m    668\u001b[39m \u001b[43m    \u001b[49m\u001b[43mpath\u001b[49m\u001b[43m,\u001b[49m\n\u001b[32m    669\u001b[39m \u001b[43m    \u001b[49m\u001b[43mcolumns\u001b[49m\u001b[43m=\u001b[49m\u001b[43mcolumns\u001b[49m\u001b[43m,\u001b[49m\n\u001b[32m    670\u001b[39m \u001b[43m    \u001b[49m\u001b[43mfilters\u001b[49m\u001b[43m=\u001b[49m\u001b[43mfilters\u001b[49m\u001b[43m,\u001b[49m\n\u001b[32m    671\u001b[39m \u001b[43m    \u001b[49m\u001b[43mstorage_options\u001b[49m\u001b[43m=\u001b[49m\u001b[43mstorage_options\u001b[49m\u001b[43m,\u001b[49m\n\u001b[32m    672\u001b[39m \u001b[43m    \u001b[49m\u001b[43muse_nullable_dtypes\u001b[49m\u001b[43m=\u001b[49m\u001b[43muse_nullable_dtypes\u001b[49m\u001b[43m,\u001b[49m\n\u001b[32m    673\u001b[39m \u001b[43m    \u001b[49m\u001b[43mdtype_backend\u001b[49m\u001b[43m=\u001b[49m\u001b[43mdtype_backend\u001b[49m\u001b[43m,\u001b[49m\n\u001b[32m    674\u001b[39m \u001b[43m    \u001b[49m\u001b[43mfilesystem\u001b[49m\u001b[43m=\u001b[49m\u001b[43mfilesystem\u001b[49m\u001b[43m,\u001b[49m\n\u001b[32m    675\u001b[39m \u001b[43m    \u001b[49m\u001b[43m*\u001b[49m\u001b[43m*\u001b[49m\u001b[43mkwargs\u001b[49m\u001b[43m,\u001b[49m\n\u001b[32m    676\u001b[39m \u001b[43m\u001b[49m\u001b[43m)\u001b[49m\n",
      "\u001b[36mFile \u001b[39m\u001b[32mc:\\Users\\User\\AppData\\Local\\Programs\\Python\\Python312\\Lib\\site-packages\\pandas\\io\\parquet.py:267\u001b[39m, in \u001b[36mPyArrowImpl.read\u001b[39m\u001b[34m(self, path, columns, filters, use_nullable_dtypes, dtype_backend, storage_options, filesystem, **kwargs)\u001b[39m\n\u001b[32m    264\u001b[39m \u001b[38;5;28;01mif\u001b[39;00m manager == \u001b[33m\"\u001b[39m\u001b[33marray\u001b[39m\u001b[33m\"\u001b[39m:\n\u001b[32m    265\u001b[39m     to_pandas_kwargs[\u001b[33m\"\u001b[39m\u001b[33msplit_blocks\u001b[39m\u001b[33m\"\u001b[39m] = \u001b[38;5;28;01mTrue\u001b[39;00m  \u001b[38;5;66;03m# type: ignore[assignment]\u001b[39;00m\n\u001b[32m--> \u001b[39m\u001b[32m267\u001b[39m path_or_handle, handles, filesystem = \u001b[43m_get_path_or_handle\u001b[49m\u001b[43m(\u001b[49m\n\u001b[32m    268\u001b[39m \u001b[43m    \u001b[49m\u001b[43mpath\u001b[49m\u001b[43m,\u001b[49m\n\u001b[32m    269\u001b[39m \u001b[43m    \u001b[49m\u001b[43mfilesystem\u001b[49m\u001b[43m,\u001b[49m\n\u001b[32m    270\u001b[39m \u001b[43m    \u001b[49m\u001b[43mstorage_options\u001b[49m\u001b[43m=\u001b[49m\u001b[43mstorage_options\u001b[49m\u001b[43m,\u001b[49m\n\u001b[32m    271\u001b[39m \u001b[43m    \u001b[49m\u001b[43mmode\u001b[49m\u001b[43m=\u001b[49m\u001b[33;43m\"\u001b[39;49m\u001b[33;43mrb\u001b[39;49m\u001b[33;43m\"\u001b[39;49m\u001b[43m,\u001b[49m\n\u001b[32m    272\u001b[39m \u001b[43m\u001b[49m\u001b[43m)\u001b[49m\n\u001b[32m    273\u001b[39m \u001b[38;5;28;01mtry\u001b[39;00m:\n\u001b[32m    274\u001b[39m     pa_table = \u001b[38;5;28mself\u001b[39m.api.parquet.read_table(\n\u001b[32m    275\u001b[39m         path_or_handle,\n\u001b[32m    276\u001b[39m         columns=columns,\n\u001b[32m   (...)\u001b[39m\u001b[32m    279\u001b[39m         **kwargs,\n\u001b[32m    280\u001b[39m     )\n",
      "\u001b[36mFile \u001b[39m\u001b[32mc:\\Users\\User\\AppData\\Local\\Programs\\Python\\Python312\\Lib\\site-packages\\pandas\\io\\parquet.py:140\u001b[39m, in \u001b[36m_get_path_or_handle\u001b[39m\u001b[34m(path, fs, storage_options, mode, is_dir)\u001b[39m\n\u001b[32m    130\u001b[39m handles = \u001b[38;5;28;01mNone\u001b[39;00m\n\u001b[32m    131\u001b[39m \u001b[38;5;28;01mif\u001b[39;00m (\n\u001b[32m    132\u001b[39m     \u001b[38;5;129;01mnot\u001b[39;00m fs\n\u001b[32m    133\u001b[39m     \u001b[38;5;129;01mand\u001b[39;00m \u001b[38;5;129;01mnot\u001b[39;00m is_dir\n\u001b[32m   (...)\u001b[39m\u001b[32m    138\u001b[39m     \u001b[38;5;66;03m# fsspec resources can also point to directories\u001b[39;00m\n\u001b[32m    139\u001b[39m     \u001b[38;5;66;03m# this branch is used for example when reading from non-fsspec URLs\u001b[39;00m\n\u001b[32m--> \u001b[39m\u001b[32m140\u001b[39m     handles = \u001b[43mget_handle\u001b[49m\u001b[43m(\u001b[49m\n\u001b[32m    141\u001b[39m \u001b[43m        \u001b[49m\u001b[43mpath_or_handle\u001b[49m\u001b[43m,\u001b[49m\u001b[43m \u001b[49m\u001b[43mmode\u001b[49m\u001b[43m,\u001b[49m\u001b[43m \u001b[49m\u001b[43mis_text\u001b[49m\u001b[43m=\u001b[49m\u001b[38;5;28;43;01mFalse\u001b[39;49;00m\u001b[43m,\u001b[49m\u001b[43m \u001b[49m\u001b[43mstorage_options\u001b[49m\u001b[43m=\u001b[49m\u001b[43mstorage_options\u001b[49m\n\u001b[32m    142\u001b[39m \u001b[43m    \u001b[49m\u001b[43m)\u001b[49m\n\u001b[32m    143\u001b[39m     fs = \u001b[38;5;28;01mNone\u001b[39;00m\n\u001b[32m    144\u001b[39m     path_or_handle = handles.handle\n",
      "\u001b[36mFile \u001b[39m\u001b[32mc:\\Users\\User\\AppData\\Local\\Programs\\Python\\Python312\\Lib\\site-packages\\pandas\\io\\common.py:882\u001b[39m, in \u001b[36mget_handle\u001b[39m\u001b[34m(path_or_buf, mode, encoding, compression, memory_map, is_text, errors, storage_options)\u001b[39m\n\u001b[32m    873\u001b[39m         handle = \u001b[38;5;28mopen\u001b[39m(\n\u001b[32m    874\u001b[39m             handle,\n\u001b[32m    875\u001b[39m             ioargs.mode,\n\u001b[32m   (...)\u001b[39m\u001b[32m    878\u001b[39m             newline=\u001b[33m\"\u001b[39m\u001b[33m\"\u001b[39m,\n\u001b[32m    879\u001b[39m         )\n\u001b[32m    880\u001b[39m     \u001b[38;5;28;01melse\u001b[39;00m:\n\u001b[32m    881\u001b[39m         \u001b[38;5;66;03m# Binary mode\u001b[39;00m\n\u001b[32m--> \u001b[39m\u001b[32m882\u001b[39m         handle = \u001b[38;5;28;43mopen\u001b[39;49m\u001b[43m(\u001b[49m\u001b[43mhandle\u001b[49m\u001b[43m,\u001b[49m\u001b[43m \u001b[49m\u001b[43mioargs\u001b[49m\u001b[43m.\u001b[49m\u001b[43mmode\u001b[49m\u001b[43m)\u001b[49m\n\u001b[32m    883\u001b[39m     handles.append(handle)\n\u001b[32m    885\u001b[39m \u001b[38;5;66;03m# Convert BytesIO or file objects passed with an encoding\u001b[39;00m\n",
      "\u001b[31mFileNotFoundError\u001b[39m: [Errno 2] No such file or directory: 'flights.parquet'"
     ]
    }
   ],
   "source": [
    "flights=pd.read_parquet('flights.parquet')\n",
    "print(flights.info())"
   ]
  },
  {
   "cell_type": "code",
   "execution_count": null,
   "metadata": {},
   "outputs": [
    {
     "name": "stdout",
     "output_type": "stream",
     "text": [
      "      color          director_name  num_critic_for_reviews  duration  \\\n",
      "2873  Color        Michael Ritchie                    29.0      94.0   \n",
      "2918  Color            Sanaa Hamri                    70.0     100.0   \n",
      "1604  Color                    NaN                    51.0      44.0   \n",
      "1713  Color      Frédéric Auburtin                     7.0     110.0   \n",
      "1470  Color            John Milius                    13.0     115.0   \n",
      "1753  Color        Lasse Hallström                   184.0     115.0   \n",
      "1483  Color               Ronny Yu                    24.0     101.0   \n",
      "3432  Color  Gina Prince-Bythewood                    71.0     116.0   \n",
      "2628  Color          Robert Harmon                    25.0      94.0   \n",
      "2713    NaN         Tung-Shing Yee                    53.0     119.0   \n",
      "\n",
      "      director_facebook_likes  actor_3_facebook_likes        actor_2_name  \\\n",
      "2873                     23.0                   148.0  Randall 'Tex' Cobb   \n",
      "2918                     43.0                   696.0          Laz Alonso   \n",
      "1604                      NaN                   690.0     Aimee Teegarden   \n",
      "1713                     18.0                   432.0  Thomas Kretschmann   \n",
      "1470                    468.0                   150.0         Dann Florek   \n",
      "1753                    529.0                   325.0          Noah Lomax   \n",
      "1483                     31.0                   448.0        Lee Arenberg   \n",
      "3432                    107.0                   658.0         Nate Parker   \n",
      "2628                     11.0                   232.0    Rosanna Arquette   \n",
      "2713                      3.0                    19.0           Daniel Wu   \n",
      "\n",
      "      actor_1_facebook_likes       gross  \\\n",
      "2873                   400.0  79817937.0   \n",
      "2918                   988.0  21520719.0   \n",
      "1604                   971.0         NaN   \n",
      "1713                   922.0         NaN   \n",
      "1470                   605.0  14587732.0   \n",
      "1753                   576.0  71346930.0   \n",
      "1483                   690.0   6448817.0   \n",
      "3432                   893.0  14612840.0   \n",
      "2628                  1000.0  22189039.0   \n",
      "2713                   556.0         NaN   \n",
      "\n",
      "                                       genres  ... num_user_for_reviews  \\\n",
      "2873  Action|Adventure|Comedy|Fantasy|Mystery  ...                 69.0   \n",
      "2918                     Comedy|Romance|Sport  ...                 36.0   \n",
      "1604                              Drama|Sport  ...                257.0   \n",
      "1713                      Drama|History|Sport  ...                 22.0   \n",
      "1470                Action|Drama|Thriller|War  ...                 39.0   \n",
      "1753                   Drama|Romance|Thriller  ...                160.0   \n",
      "1483                 Action|Adventure|Fantasy  ...                 31.0   \n",
      "3432                              Drama|Music  ...                 37.0   \n",
      "2628      Action|Crime|Drama|Romance|Thriller  ...                 55.0   \n",
      "2713              Action|Crime|Drama|Thriller  ...                 53.0   \n",
      "\n",
      "      language    country  content_rating      budget  title_year  \\\n",
      "2873   English        USA           PG-13  25000000.0      1986.0   \n",
      "2918   English        USA              PG         NaN      2010.0   \n",
      "1604   English        USA           TV-14         NaN         NaN   \n",
      "1713   English     France       Not Rated  24000000.0      2014.0   \n",
      "1470   English        USA           PG-13  35000000.0      1991.0   \n",
      "1753   English        USA           PG-13  28000000.0      2013.0   \n",
      "1483   English        USA              PG  35000000.0      1997.0   \n",
      "3432   English        USA           PG-13   7000000.0      2014.0   \n",
      "2628   English        USA               R  15000000.0      1993.0   \n",
      "2713  Mandarin  Hong Kong               R  15000000.0      2009.0   \n",
      "\n",
      "     actor_2_facebook_likes imdb_score  aspect_ratio movie_facebook_likes  \n",
      "2873                  255.0        5.9          1.85                    0  \n",
      "2918                  826.0        5.8          2.35                    0  \n",
      "1604                  741.0        8.7          1.78                    0  \n",
      "1713                  919.0        2.0          2.35                    0  \n",
      "1470                  367.0        5.7          2.35                  452  \n",
      "1753                  447.0        6.7          2.35                23000  \n",
      "1483                  457.0        4.6          2.35                    0  \n",
      "3432                  664.0        6.9           NaN                    0  \n",
      "2628                  605.0        5.5          1.85                  466  \n",
      "2713                  353.0        7.1          2.35                  821  \n",
      "\n",
      "[10 rows x 28 columns]\n"
     ]
    }
   ],
   "source": [
    "movies=pd.read_csv(\"movie.csv\")\n",
    "print(movies.sample(10))"
   ]
  },
  {
   "cell_type": "code",
   "execution_count": null,
   "metadata": {},
   "outputs": [
    {
     "ename": "NameError",
     "evalue": "name 'pd' is not defined",
     "output_type": "error",
     "traceback": [
      "\u001b[31m---------------------------------------------------------------------------\u001b[39m",
      "\u001b[31mNameError\u001b[39m                                 Traceback (most recent call last)",
      "\u001b[36mCell\u001b[39m\u001b[36m \u001b[39m\u001b[32mIn[1]\u001b[39m\u001b[32m, line 1\u001b[39m\n\u001b[32m----> \u001b[39m\u001b[32m1\u001b[39m iris_df = \u001b[43mpd\u001b[49m.read_json(\u001b[33m\"\u001b[39m\u001b[33miris.json\u001b[39m\u001b[33m\"\u001b[39m)\n\u001b[32m      2\u001b[39m iris_df.columns = iris_df.columns.str.lower()\n\u001b[32m      3\u001b[39m sepal_data = iris_df[[\u001b[33m'\u001b[39m\u001b[33msepal_length\u001b[39m\u001b[33m'\u001b[39m, \u001b[33m'\u001b[39m\u001b[33msepal_width\u001b[39m\u001b[33m'\u001b[39m]]\n",
      "\u001b[31mNameError\u001b[39m: name 'pd' is not defined"
     ]
    }
   ],
   "source": [
    "iris_df = pd.read_json(\"iris.json\")\n",
    "iris_df.columns = iris_df.columns.str.lower()\n",
    "sepal_data = iris_df[['sepal_length', 'sepal_width']]\n",
    "print(\"Sepal Data:\\n\", sepal_data.head())\n",
    "print(\"\\nStatistics:\")\n",
    "print(iris_df.agg(['mean', 'median', 'std']))"
   ]
  },
  {
   "cell_type": "code",
   "execution_count": null,
   "metadata": {},
   "outputs": [
    {
     "ename": "KeyError",
     "evalue": "\"None of [Index(['sepal_length', 'sepal_width'], dtype='object')] are in the [columns]\"",
     "output_type": "error",
     "traceback": [
      "\u001b[31m---------------------------------------------------------------------------\u001b[39m",
      "\u001b[31mKeyError\u001b[39m                                  Traceback (most recent call last)",
      "\u001b[36mCell\u001b[39m\u001b[36m \u001b[39m\u001b[32mIn[20]\u001b[39m\u001b[32m, line 10\u001b[39m\n\u001b[32m      7\u001b[39m df_iris.columns = df_iris.columns.str.lower()\n\u001b[32m      9\u001b[39m \u001b[38;5;66;03m# Select only sepal_length and sepal_width\u001b[39;00m\n\u001b[32m---> \u001b[39m\u001b[32m10\u001b[39m df_sepal = \u001b[43mdf_iris\u001b[49m\u001b[43m[\u001b[49m\u001b[43m[\u001b[49m\u001b[33;43m'\u001b[39;49m\u001b[33;43msepal_length\u001b[39;49m\u001b[33;43m'\u001b[39;49m\u001b[43m,\u001b[49m\u001b[43m \u001b[49m\u001b[33;43m'\u001b[39;49m\u001b[33;43msepal_width\u001b[39;49m\u001b[33;43m'\u001b[39;49m\u001b[43m]\u001b[49m\u001b[43m]\u001b[49m\n\u001b[32m     12\u001b[39m \u001b[38;5;28mprint\u001b[39m(\u001b[33m\"\u001b[39m\u001b[33mSelected Sepal Columns:\u001b[39m\u001b[33m\"\u001b[39m)\n\u001b[32m     13\u001b[39m \u001b[38;5;28mprint\u001b[39m(df_sepal.head())\n",
      "\u001b[36mFile \u001b[39m\u001b[32mc:\\Users\\User\\AppData\\Local\\Programs\\Python\\Python312\\Lib\\site-packages\\pandas\\core\\frame.py:4108\u001b[39m, in \u001b[36mDataFrame.__getitem__\u001b[39m\u001b[34m(self, key)\u001b[39m\n\u001b[32m   4106\u001b[39m     \u001b[38;5;28;01mif\u001b[39;00m is_iterator(key):\n\u001b[32m   4107\u001b[39m         key = \u001b[38;5;28mlist\u001b[39m(key)\n\u001b[32m-> \u001b[39m\u001b[32m4108\u001b[39m     indexer = \u001b[38;5;28;43mself\u001b[39;49m\u001b[43m.\u001b[49m\u001b[43mcolumns\u001b[49m\u001b[43m.\u001b[49m\u001b[43m_get_indexer_strict\u001b[49m\u001b[43m(\u001b[49m\u001b[43mkey\u001b[49m\u001b[43m,\u001b[49m\u001b[43m \u001b[49m\u001b[33;43m\"\u001b[39;49m\u001b[33;43mcolumns\u001b[39;49m\u001b[33;43m\"\u001b[39;49m\u001b[43m)\u001b[49m[\u001b[32m1\u001b[39m]\n\u001b[32m   4110\u001b[39m \u001b[38;5;66;03m# take() does not accept boolean indexers\u001b[39;00m\n\u001b[32m   4111\u001b[39m \u001b[38;5;28;01mif\u001b[39;00m \u001b[38;5;28mgetattr\u001b[39m(indexer, \u001b[33m\"\u001b[39m\u001b[33mdtype\u001b[39m\u001b[33m\"\u001b[39m, \u001b[38;5;28;01mNone\u001b[39;00m) == \u001b[38;5;28mbool\u001b[39m:\n",
      "\u001b[36mFile \u001b[39m\u001b[32mc:\\Users\\User\\AppData\\Local\\Programs\\Python\\Python312\\Lib\\site-packages\\pandas\\core\\indexes\\base.py:6200\u001b[39m, in \u001b[36mIndex._get_indexer_strict\u001b[39m\u001b[34m(self, key, axis_name)\u001b[39m\n\u001b[32m   6197\u001b[39m \u001b[38;5;28;01melse\u001b[39;00m:\n\u001b[32m   6198\u001b[39m     keyarr, indexer, new_indexer = \u001b[38;5;28mself\u001b[39m._reindex_non_unique(keyarr)\n\u001b[32m-> \u001b[39m\u001b[32m6200\u001b[39m \u001b[38;5;28;43mself\u001b[39;49m\u001b[43m.\u001b[49m\u001b[43m_raise_if_missing\u001b[49m\u001b[43m(\u001b[49m\u001b[43mkeyarr\u001b[49m\u001b[43m,\u001b[49m\u001b[43m \u001b[49m\u001b[43mindexer\u001b[49m\u001b[43m,\u001b[49m\u001b[43m \u001b[49m\u001b[43maxis_name\u001b[49m\u001b[43m)\u001b[49m\n\u001b[32m   6202\u001b[39m keyarr = \u001b[38;5;28mself\u001b[39m.take(indexer)\n\u001b[32m   6203\u001b[39m \u001b[38;5;28;01mif\u001b[39;00m \u001b[38;5;28misinstance\u001b[39m(key, Index):\n\u001b[32m   6204\u001b[39m     \u001b[38;5;66;03m# GH 42790 - Preserve name from an Index\u001b[39;00m\n",
      "\u001b[36mFile \u001b[39m\u001b[32mc:\\Users\\User\\AppData\\Local\\Programs\\Python\\Python312\\Lib\\site-packages\\pandas\\core\\indexes\\base.py:6249\u001b[39m, in \u001b[36mIndex._raise_if_missing\u001b[39m\u001b[34m(self, key, indexer, axis_name)\u001b[39m\n\u001b[32m   6247\u001b[39m \u001b[38;5;28;01mif\u001b[39;00m nmissing:\n\u001b[32m   6248\u001b[39m     \u001b[38;5;28;01mif\u001b[39;00m nmissing == \u001b[38;5;28mlen\u001b[39m(indexer):\n\u001b[32m-> \u001b[39m\u001b[32m6249\u001b[39m         \u001b[38;5;28;01mraise\u001b[39;00m \u001b[38;5;167;01mKeyError\u001b[39;00m(\u001b[33mf\u001b[39m\u001b[33m\"\u001b[39m\u001b[33mNone of [\u001b[39m\u001b[38;5;132;01m{\u001b[39;00mkey\u001b[38;5;132;01m}\u001b[39;00m\u001b[33m] are in the [\u001b[39m\u001b[38;5;132;01m{\u001b[39;00maxis_name\u001b[38;5;132;01m}\u001b[39;00m\u001b[33m]\u001b[39m\u001b[33m\"\u001b[39m)\n\u001b[32m   6251\u001b[39m     not_found = \u001b[38;5;28mlist\u001b[39m(ensure_index(key)[missing_mask.nonzero()[\u001b[32m0\u001b[39m]].unique())\n\u001b[32m   6252\u001b[39m     \u001b[38;5;28;01mraise\u001b[39;00m \u001b[38;5;167;01mKeyError\u001b[39;00m(\u001b[33mf\u001b[39m\u001b[33m\"\u001b[39m\u001b[38;5;132;01m{\u001b[39;00mnot_found\u001b[38;5;132;01m}\u001b[39;00m\u001b[33m not in index\u001b[39m\u001b[33m\"\u001b[39m)\n",
      "\u001b[31mKeyError\u001b[39m: \"None of [Index(['sepal_length', 'sepal_width'], dtype='object')] are in the [columns]\""
     ]
    }
   ],
   "source": [
    "import pandas as pd\n",
    "\n",
    "df_iris = pd.read_json(\"iris.json\")\n",
    "\n",
    "df_iris.columns = df_iris.columns.str.lower()\n",
    "df_sepal = df_iris[['sepal_length', 'sepal_width']]\n",
    "\n",
    "print(\"Selected Sepal Columns:\")\n",
    "print(df_sepal.head())"
   ]
  },
  {
   "cell_type": "code",
   "execution_count": 21,
   "metadata": {},
   "outputs": [
    {
     "name": "stdout",
     "output_type": "stream",
     "text": [
      "\n",
      "Passengers older than 30:\n",
      "    PassengerId  Survived  Pclass  \\\n",
      "1             2         1       1   \n",
      "3             4         1       1   \n",
      "4             5         0       3   \n",
      "6             7         0       1   \n",
      "11           12         1       1   \n",
      "\n",
      "                                                 Name     Sex   Age  SibSp  \\\n",
      "1   Cumings, Mrs. John Bradley (Florence Briggs Th...  female  38.0      1   \n",
      "3        Futrelle, Mrs. Jacques Heath (Lily May Peel)  female  35.0      1   \n",
      "4                            Allen, Mr. William Henry    male  35.0      0   \n",
      "6                             McCarthy, Mr. Timothy J    male  54.0      0   \n",
      "11                           Bonnell, Miss. Elizabeth  female  58.0      0   \n",
      "\n",
      "    Parch    Ticket     Fare Cabin Embarked  \n",
      "1       0  PC 17599  71.2833   C85        C  \n",
      "3       0    113803  53.1000  C123        S  \n",
      "4       0    373450   8.0500   NaN        S  \n",
      "6       0     17463  51.8625   E46        S  \n",
      "11      0    113783  26.5500  C103        S  \n",
      "\n",
      "Gender counts:\n",
      "Sex\n",
      "male      577\n",
      "female    314\n",
      "Name: count, dtype: int64\n"
     ]
    }
   ],
   "source": [
    "import pandas as pd\n",
    "df_titanic = pd.read_excel(\"titanic.xlsx\")\n",
    "\n",
    "df_age_above_30 = df_titanic[df_titanic['Age'] > 30]\n",
    "\n",
    "\n",
    "gender_counts = df_titanic['Sex'].value_counts()\n",
    "\n",
    "print(\"\\nPassengers older than 30:\")\n",
    "print(df_age_above_30.head())\n",
    "print(\"\\nGender counts:\")\n",
    "print(gender_counts)"
   ]
  },
  {
   "cell_type": "code",
   "execution_count": 22,
   "metadata": {},
   "outputs": [
    {
     "name": "stdout",
     "output_type": "stream",
     "text": [
      "\n",
      "Movies longer than 120 minutes (sorted by director likes):\n",
      "      color      director_name  num_critic_for_reviews  duration  \\\n",
      "66    Color  Christopher Nolan                   645.0     152.0   \n",
      "3     Color  Christopher Nolan                   813.0     164.0   \n",
      "120   Color  Christopher Nolan                   478.0     128.0   \n",
      "1222  Color  Christopher Nolan                   341.0     130.0   \n",
      "97    Color  Christopher Nolan                   642.0     148.0   \n",
      "96    Color  Christopher Nolan                   712.0     169.0   \n",
      "857   Color      David Fincher                   210.0     145.0   \n",
      "966   Color      David Fincher                   157.0     129.0   \n",
      "101   Color      David Fincher                   362.0     166.0   \n",
      "1584  Color      David Fincher                   216.0     127.0   \n",
      "\n",
      "      director_facebook_likes  actor_3_facebook_likes         actor_2_name  \\\n",
      "66                    22000.0                 11000.0         Heath Ledger   \n",
      "3                     22000.0                 23000.0       Christian Bale   \n",
      "120                   22000.0                 11000.0          Liam Neeson   \n",
      "1222                  22000.0                 19000.0         Hugh Jackman   \n",
      "97                    22000.0                 23000.0            Tom Hardy   \n",
      "96                    22000.0                  6000.0        Anne Hathaway   \n",
      "857                   21000.0                   243.0       Holt McCallany   \n",
      "966                   21000.0                   283.0  Armin Mueller-Stahl   \n",
      "101                   21000.0                   919.0        Jason Flemyng   \n",
      "1584                  21000.0                   360.0            Brad Pitt   \n",
      "\n",
      "      actor_1_facebook_likes        gross                            genres  \\\n",
      "66                   23000.0  533316061.0       Action|Crime|Drama|Thriller   \n",
      "3                    27000.0  448130642.0                   Action|Thriller   \n",
      "120                  23000.0  205343774.0                  Action|Adventure   \n",
      "1222                 23000.0   53082743.0     Drama|Mystery|Sci-Fi|Thriller   \n",
      "97                   29000.0  292568851.0  Action|Adventure|Sci-Fi|Thriller   \n",
      "96                   11000.0  187991439.0            Adventure|Drama|Sci-Fi   \n",
      "857                    534.0   55473600.0              Action|Horror|Sci-Fi   \n",
      "966                    495.0   48265581.0            Drama|Mystery|Thriller   \n",
      "101                  11000.0  127490802.0             Drama|Fantasy|Romance   \n",
      "1584                 11000.0  100125340.0      Crime|Drama|Mystery|Thriller   \n",
      "\n",
      "      ... num_user_for_reviews language  country  content_rating       budget  \\\n",
      "66    ...               4667.0  English      USA           PG-13  185000000.0   \n",
      "3     ...               2701.0  English      USA           PG-13  250000000.0   \n",
      "120   ...               2685.0  English      USA           PG-13  150000000.0   \n",
      "1222  ...               1100.0  English      USA           PG-13   40000000.0   \n",
      "97    ...               2803.0  English      USA           PG-13  160000000.0   \n",
      "96    ...               2725.0  English      USA           PG-13  165000000.0   \n",
      "857   ...                776.0  English      USA               R   50000000.0   \n",
      "966   ...                506.0  English      USA               R   50000000.0   \n",
      "101   ...                822.0  English      USA           PG-13  150000000.0   \n",
      "1584  ...               1080.0  English      USA               R   33000000.0   \n",
      "\n",
      "      title_year actor_2_facebook_likes imdb_score  aspect_ratio  \\\n",
      "66        2008.0                13000.0        9.0          2.35   \n",
      "3         2012.0                23000.0        8.5          2.35   \n",
      "120       2005.0                14000.0        8.3          2.35   \n",
      "1222      2006.0                20000.0        8.5          2.35   \n",
      "97        2010.0                27000.0        8.8          2.35   \n",
      "96        2014.0                11000.0        8.6          2.35   \n",
      "857       1992.0                  273.0        6.4          2.35   \n",
      "966       1997.0                  294.0        7.8          2.35   \n",
      "101       2008.0                 1000.0        7.8          2.35   \n",
      "1584      1995.0                11000.0        8.6          2.35   \n",
      "\n",
      "     movie_facebook_likes  \n",
      "66                  37000  \n",
      "3                  164000  \n",
      "120                 15000  \n",
      "1222                49000  \n",
      "97                 175000  \n",
      "96                 349000  \n",
      "857                     0  \n",
      "966                 25000  \n",
      "101                 23000  \n",
      "1584                39000  \n",
      "\n",
      "[10 rows x 28 columns]\n"
     ]
    }
   ],
   "source": [
    "import pandas as pd\n",
    "\n",
    "df_movie = pd.read_csv(\"movie.csv\")\n",
    "\n",
    "df_long_movies = df_movie[df_movie['duration'] > 120]\n",
    "\n",
    "df_sorted = df_long_movies.sort_values('director_facebook_likes', ascending=False)\n",
    "\n",
    "print(\"\\nMovies longer than 120 minutes (sorted by director likes):\")\n",
    "print(df_sorted.head(10))"
   ]
  },
  {
   "cell_type": "code",
   "execution_count": null,
   "metadata": {},
   "outputs": [],
   "source": [
    "import pandas as pd\n",
    "\n",
    "df_iris = pd.read_json(\"iris.json\")\n",
    "\n",
    "stats = df_iris.select_dtypes(include='number').agg(['mean', 'median', 'std'])\n",
    "\n",
    "print(\"Statistics for Iris Dataset:\")\n",
    "print(stats)"
   ]
  },
  {
   "cell_type": "code",
   "execution_count": null,
   "metadata": {},
   "outputs": [],
   "source": [
    "import pandas as pd\n",
    "df_titanic = pd.read_excel(\"titanic.xlsx\")\n",
    "age_stats = {\n",
    "    'min_age': df_titanic['Age'].min(),\n",
    "    'max_age': df_titanic['Age'].max(),\n",
    "    'sum_age': df_titanic['Age'].sum()\n",
    "}\n",
    "\n",
    "print(\"\\nPassenger Age Statistics:\")\n",
    "print(age_stats)"
   ]
  },
  {
   "cell_type": "code",
   "execution_count": null,
   "metadata": {},
   "outputs": [],
   "source": [
    "director_likes = df_movie.groupby('director_name')['director_facebook_likes'].sum()\n",
    "top_director = director_likes.idxmax()\n",
    "\n",
    "longest_movies = df_movie.nlargest(5, 'duration')[['movie_title', 'duration', 'director_name']]\n",
    "\n",
    "print(\"\\nDirector with Highest Total Facebook Likes:\", top_director)\n",
    "print(\"\\n5 Longest Movies:\")\n",
    "print(longest_movies)\n"
   ]
  },
  {
   "cell_type": "code",
   "execution_count": null,
   "metadata": {},
   "outputs": [],
   "source": [
    "df_flights = pd.read_parquet(\"flights.parquet\", engine=\"pyarrow\")\n",
    "\n",
    "missing_values = df_flights.isnull().sum()\n",
    "\n",
    "median_delay = df_flights['dep_delay'].median()\n",
    "df_flights['dep_delay_filled'] = df_flights['dep_delay'].fillna(median_delay)\n",
    "\n",
    "print(\"\\nMissing Values per Column:\")\n",
    "print(missing_values)\n",
    "print(\"\\nSample Rows After Filling Missing 'dep_delay':\")\n",
    "print(df_flights[['dep_delay', 'dep_delay_filled']].head())"
   ]
  }
 ],
 "metadata": {
  "kernelspec": {
   "display_name": "Python 3",
   "language": "python",
   "name": "python3"
  },
  "language_info": {
   "codemirror_mode": {
    "name": "ipython",
    "version": 3
   },
   "file_extension": ".py",
   "mimetype": "text/x-python",
   "name": "python",
   "nbconvert_exporter": "python",
   "pygments_lexer": "ipython3",
   "version": "3.12.9"
  }
 },
 "nbformat": 4,
 "nbformat_minor": 2
}
