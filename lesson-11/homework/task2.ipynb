{
 "cells": [
  {
   "cell_type": "code",
   "execution_count": null,
   "metadata": {},
   "outputs": [],
   "source": [
    "import sqlite3"
   ]
  },
  {
   "cell_type": "code",
   "execution_count": null,
   "metadata": {},
   "outputs": [],
   "source": [
    "connection=sqlite3.connect(\"library.db\")\n",
    "create_table=\"\"\"CREATE TABLE Books (Title TEXT, Author text, Year_published int, Genre text);\"\"\"\n",
    "table_values=(\n",
    "    ('To Kill a Mockingbird','Harper Lee',1960, 'Fiction'),\n",
    "    ('1984','George Orwell',1949, 'Dystopian'),\n",
    "    ('The Great Gatsby','F. Scott Fitzgerald',1925,'Classic'),\n",
    ")"
   ]
  },
  {
   "cell_type": "code",
   "execution_count": null,
   "metadata": {},
   "outputs": [],
   "source": [
    "with sqlite3.connect(\"library.db\") as con:\n",
    "    cursor=con.cursor()\n",
    "    create=cursor.execute(create_table)\n",
    "    data=cursor.executemany(\"Insert into Books Values(?,?,?,?)\", table_values)"
   ]
  },
  {
   "cell_type": "code",
   "execution_count": null,
   "metadata": {},
   "outputs": [],
   "source": [
    "update_query=\"Update Books set Year_published=1950 where Year_published=1949\"\n",
    "with sqlite3.connect(\"library.db\") as con:\n",
    "    cursor=con.cursor()\n",
    "    update=cursor.execute(update_query)\n",
    "    "
   ]
  },
  {
   "cell_type": "code",
   "execution_count": null,
   "metadata": {},
   "outputs": [],
   "source": [
    "retrieve_query=\"Select Title, Author from Books where Genre='Dystopian'\"\n",
    "with sqlite3.connect(\"library.db\") as con:\n",
    "    cursor=con.cursor()\n",
    "    retrieve=cursor.execute(retrieve_query)\n",
    "retrieve.fetchall()"
   ]
  },
  {
   "cell_type": "code",
   "execution_count": null,
   "metadata": {},
   "outputs": [],
   "source": [
    "delete_query=\" Delete from Books where Year_published<1950\"\n",
    "with sqlite3.connect(\"library.db\") as con:\n",
    "    cursor=con.cursor()\n",
    "    delete=cursor.execute(delete_query)"
   ]
  },
  {
   "cell_type": "code",
   "execution_count": null,
   "metadata": {},
   "outputs": [],
   "source": [
    "with sqlite3.connect(\"library.db\") as con:\n",
    "    cursor=con.cursor()\n",
    "    new_columb=cursor.executescript(\"Alter table Books add column Rating float;\\\n",
    "                                    Update Books set Rating=4.8 where Title='To Kill a Mockingbird';\\\n",
    "                                    Update Books set Rating=4.7 where Title='1984';\\\n",
    "                                    Update Books set Rating=4.5 where Title='The Great Gatsby'; \")"
   ]
  },
  {
   "cell_type": "code",
   "execution_count": null,
   "metadata": {},
   "outputs": [],
   "source": [
    "ascorder=\"Select * from Books order by Year_published asc\"\n",
    "with sqlite3.connect(\"library.db\") as con:\n",
    "    cursor=con.cursor()\n",
    "    ordering=cursor.execute(ascorder)"
   ]
  }
 ],
 "metadata": {
  "kernelspec": {
   "display_name": "Python 3",
   "language": "python",
   "name": "python3"
  },
  "language_info": {
   "codemirror_mode": {
    "name": "ipython",
    "version": 3
   },
   "file_extension": ".py",
   "mimetype": "text/x-python",
   "name": "python",
   "nbconvert_exporter": "python",
   "pygments_lexer": "ipython3",
   "version": "3.12.9"
  }
 },
 "nbformat": 4,
 "nbformat_minor": 2
}
