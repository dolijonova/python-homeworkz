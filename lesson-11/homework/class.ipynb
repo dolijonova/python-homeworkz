{
 "cells": [
  {
   "cell_type": "code",
   "execution_count": null,
   "metadata": {},
   "outputs": [],
   "source": [
    "import sqlite3"
   ]
  },
  {
   "cell_type": "code",
   "execution_count": null,
   "metadata": {},
   "outputs": [],
   "source": [
    "connection=sqlite3.connect(\"rosters.db\")\n",
    "create_table=\"\"\"CREATE TABLE Roster (Name TEXT, Species text, age int);\"\"\"\n",
    "table_values=(\n",
    "    ('Benjamin Sisko','Human',40),\n",
    "    ('Jadzia Dax','Trill',300),\n",
    "    ('Kira Nerys','Bajoran',29),\n",
    ")"
   ]
  },
  {
   "cell_type": "code",
   "execution_count": null,
   "metadata": {},
   "outputs": [],
   "source": [
    "with sqlite3.connect(\"rosters.db\") as con:\n",
    "    cursor=con.cursor()\n",
    "    create=cursor.execute(create_table)\n",
    "    data=cursor.executemany(\"Insert into Roster Values(?,?,?)\", table_values)"
   ]
  },
  {
   "cell_type": "code",
   "execution_count": null,
   "metadata": {},
   "outputs": [],
   "source": [
    "query=\"Update Roster SET name='Ezri Dax' WHERE name= 'Jadzia Dax' \"\n",
    "with sqlite3.connect(\"rosters.db\") as con:\n",
    "    cursor=con.cursor()\n",
    "    update=cursor.execute(query)\n",
    "    "
   ]
  },
  {
   "cell_type": "code",
   "execution_count": null,
   "metadata": {},
   "outputs": [],
   "source": [
    "query_retrive=(\" Select * from Roster where species ='Bajoran'\")"
   ]
  },
  {
   "cell_type": "code",
   "execution_count": null,
   "metadata": {},
   "outputs": [],
   "source": [
    "with sqlite3.connect(\"rosters.db\") as con:\n",
    "    cursor=con.cursor()\n",
    "    retrieve=cursor.execute(query_retrive)\n",
    "retrieve.fetchall()"
   ]
  },
  {
   "cell_type": "code",
   "execution_count": null,
   "metadata": {},
   "outputs": [],
   "source": [
    "delete_query=\"Delete from Roster where age>100\"\n",
    "with sqlite3.connect(\"rosters.db\") as con:\n",
    "    cursor=con.cursor()\n",
    "    delete=cursor.execute(delete_query)"
   ]
  },
  {
   "cell_type": "code",
   "execution_count": null,
   "metadata": {},
   "outputs": [],
   "source": [
    "with sqlite3.connect(\"rosters.db\") as con:\n",
    "    cursor=con.cursor()\n",
    "    new_columb=cursor.executescript(\"Alter table Roster add column Rank text;\\\n",
    "                                    Update Roster set Rank='Captain' where name='Benjamin Sisko';\\\n",
    "                                    Update Roster set Rank='Lieutenant' where name='Ezri Dax';\\\n",
    "                                    Update Roster set Rank='Major' where name='Kira Nerys'; \")"
   ]
  },
  {
   "cell_type": "code",
   "execution_count": null,
   "metadata": {},
   "outputs": [],
   "source": [
    "query=\"Select * from Roster order by age desc\"\n",
    "with sqlite3.connect(\"rosters.db\") as con:\n",
    "    cursor=con.cursor()\n",
    "    agedesc=cursor.execute(query)"
   ]
  }
 ],
 "metadata": {
  "kernelspec": {
   "display_name": "Python 3",
   "language": "python",
   "name": "python3"
  },
  "language_info": {
   "codemirror_mode": {
    "name": "ipython",
    "version": 3
   },
   "file_extension": ".py",
   "mimetype": "text/x-python",
   "name": "python",
   "nbconvert_exporter": "python",
   "pygments_lexer": "ipython3",
   "version": "3.12.9"
  }
 },
 "nbformat": 4,
 "nbformat_minor": 2
}
