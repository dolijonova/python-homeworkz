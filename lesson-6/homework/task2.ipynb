{
 "cells": [
  {
   "cell_type": "code",
   "execution_count": 1,
   "metadata": {},
   "outputs": [
    {
     "name": "stdout",
     "output_type": "stream",
     "text": [
      "Task 1\n",
      "Output:  2.0\n"
     ]
    }
   ],
   "source": [
    "print(\"Task 1\")\n",
    "def check(func):\n",
    "    def wrapper(a,b):\n",
    "        if b ==0:\n",
    "            return (\"Denominator can't be zero\")\n",
    "        else:\n",
    "            return func(a,b)\n",
    "    return wrapper\n",
    "@check\n",
    "def div(a, b):\n",
    "   return a / b\n",
    "a=6\n",
    "b=3\n",
    "res=div(a,b)\n",
    "print(\"Output: \", res)"
   ]
  },
  {
   "cell_type": "code",
   "execution_count": null,
   "metadata": {},
   "outputs": [],
   "source": [
    "file=open('employees.txt',mode='w')\n",
    "file.write(\"Employee ID, Name, Position, Salary\\n\")\n",
    "file.close()\n",
    "employeeFile='employees.txt'"
   ]
  },
  {
   "cell_type": "code",
   "execution_count": null,
   "metadata": {},
   "outputs": [],
   "source": [
    "def add_employees():\n",
    "    print(\"Adding new employess\\n\")\n",
    "    EmID=input(\" Enter Employee ID: \")\n",
    "    name=input(\"Enter Employee's name: \")\n",
    "    position=input(\" Enter Employees position: \")\n",
    "    salary=input(\"Enter employee's salary: \")\n",
    "    with open(employeeFile,mode='w') as file:\n",
    "        file.write(f\"{EmID},{name},{position},{salary}\\n\")\n",
    "    print(\"Employee records added\")"
   ]
  },
  {
   "cell_type": "code",
   "execution_count": null,
   "metadata": {},
   "outputs": [],
   "source": [
    "def view_employee():\n",
    "    with open(employeeFile,mode='r') as file:\n",
    "        records=file.readlines()\n",
    "        if len(records)==1:\n",
    "            print(\"No records found\")\n",
    "        else:\n",
    "            for i in records:\n",
    "                print(i.strip())\n"
   ]
  },
  {
   "cell_type": "code",
   "execution_count": null,
   "metadata": {},
   "outputs": [],
   "source": [
    "def employee_search():\n",
    "    emp_id=input(\" Enter Employee ID: \")\n",
    "    with open(employeeFile,\"r\") as file:\n",
    "        records=file.readlines()\n",
    "        found=False\n",
    "        for i in records[1:]:\n",
    "            if i.startswith(emp_id+\",\"):\n",
    "                print(\"Employee found , here is their records\\n\")\n",
    "                print(i.strip())\n",
    "                found= True\n",
    "                break\n",
    "            if not found:\n",
    "                print (\"Employee is not found\\n\")\n",
    "        "
   ]
  },
  {
   "cell_type": "code",
   "execution_count": null,
   "metadata": {},
   "outputs": [],
   "source": [
    "def update():\n",
    "    emp_id=input(\" Enter the id of the employee who need update: \")\n",
    "    updated_version=[]\n",
    "    with open(employeeFile, \"r\") as file:\n",
    "        records=file.readlines()\n",
    "        found=False\n",
    "        for i in records:\n",
    "            if i.startswith(emp_id +\",\"):\n",
    "                print(i.strip())\n",
    "                name=input(\"Enter new name: \")\n",
    "                position=input(\"Enter new position: \")\n",
    "                salary=input(\"Enter new salary: \")\n",
    "                updated_i=f\"{emp_id},{name},{position},{salary}\\n\"\n",
    "                updated_version.append(updated_i)\n",
    "                found=True\n",
    "            else:\n",
    "                updated_version.append(i)\n",
    "        if not found:\n",
    "            print(\"Employee not found.\")\n",
    "        else:\n",
    "            with open(employeeFile, \"w\") as file:\n",
    "                file.writelines(updated_version)\n",
    "            print(\"Employee record updated successfully!\")"
   ]
  },
  {
   "cell_type": "code",
   "execution_count": null,
   "metadata": {},
   "outputs": [],
   "source": [
    "def delete():\n",
    "    emp_id=input(\" Enter ID of the employee to delete: \")\n",
    "    updated_version=[]\n",
    "    with open(employeeFile, \"r\") as file:\n",
    "        records=file.readlines()\n",
    "        found=False\n",
    "        for i in records:\n",
    "            if not i.startswith(emp_id +\",\"):\n",
    "                updated_version.append(i)\n",
    "            else:\n",
    "                found= True\n",
    "        if not found:\n",
    "            print(\"Employee not found\")\n",
    "        else:\n",
    "            with open(employeeFile, \"w\") as file:\n",
    "                file.writelines(updated_version)\n",
    "            print(\" Successfully deleted\")"
   ]
  },
  {
   "cell_type": "code",
   "execution_count": null,
   "metadata": {},
   "outputs": [],
   "source": [
    "def main_menu():\n",
    "    while True:\n",
    "        print(\"\\nEmployee Records Manager\")\n",
    "        print(\"1. Add new employee record\")\n",
    "        print(\"2. View all employee records\")\n",
    "        print(\"3. Search for an employee by Employee ID\")\n",
    "        print(\"4. Update an employee's information\")\n",
    "        print(\"5. Delete an employee record\")\n",
    "        print(\"6. Exit\")\n",
    "        choice = input(\"Enter your choice (1-6): \")\n",
    "\n",
    "        if choice == \"1\":\n",
    "            add_employees()\n",
    "        elif choice == \"2\":\n",
    "            view_employee()\n",
    "        elif choice == \"3\":\n",
    "            employee_search()\n",
    "        elif choice == \"4\":\n",
    "            update()\n",
    "        elif choice == \"5\":\n",
    "            delete()\n",
    "        elif choice == \"6\":\n",
    "            print(\"Exiting the program. Goodbye!\")\n",
    "            break\n",
    "        else:\n",
    "            print(\"Invalid choice. Please try again.\")"
   ]
  },
  {
   "cell_type": "code",
   "execution_count": null,
   "metadata": {},
   "outputs": [],
   "source": [
    "main_menu()"
   ]
  }
 ],
 "metadata": {
  "kernelspec": {
   "display_name": "Python 3",
   "language": "python",
   "name": "python3"
  },
  "language_info": {
   "codemirror_mode": {
    "name": "ipython",
    "version": 3
   },
   "file_extension": ".py",
   "mimetype": "text/x-python",
   "name": "python",
   "nbconvert_exporter": "python",
   "pygments_lexer": "ipython3",
   "version": "3.12.9"
  }
 },
 "nbformat": 4,
 "nbformat_minor": 2
}
