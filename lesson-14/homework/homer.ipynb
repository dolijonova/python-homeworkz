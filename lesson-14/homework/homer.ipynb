{
 "cells": [
  {
   "cell_type": "markdown",
   "metadata": {},
   "source": [
    "Task 1. Write a Python function that converts a temperature from Fahrenheit to Celsius. Use `numpy.vectorize` to apply this function to an array of temperatures: `[32, 68, 100, 212, 77]`. \n",
    "   - Formula: $C = (F - 32) \\times \\frac{5}{9}$\n"
   ]
  },
  {
   "cell_type": "code",
   "execution_count": null,
   "metadata": {},
   "outputs": [],
   "source": [
    "import numpy as np\n",
    "def celcius_to_far(F):\n",
    "    C=(F-32)*(5/9)\n",
    "    return C\n",
    "a1=np.array([32, 68, 100, 212, 77])\n",
    "celcius_to_far(a1)"
   ]
  },
  {
   "cell_type": "markdown",
   "metadata": {},
   "source": [
    "\n",
    "Task 2. Create a custom function that takes two arguments: a number and a power. Use `numpy.vectorize` to calculate the power for each pair of numbers in two arrays: `[2, 3, 4, 5]` and `[1, 2, 3, 4]`.\n"
   ]
  },
  {
   "cell_type": "code",
   "execution_count": null,
   "metadata": {},
   "outputs": [],
   "source": [
    "@np.vectorize\n",
    "def power(number,power):\n",
    "    return number**power\n",
    "\n",
    "num1=np.array([2,3,4,5])\n",
    "pow=np.array([1,2,3,4])\n",
    "power(num1,pow)"
   ]
  },
  {
   "cell_type": "markdown",
   "metadata": {},
   "source": [
    "\n",
    "Task 3. Solve the system of equations using `numpy`:\n",
    "\n",
    "$$\n",
    "\\begin{cases}\n",
    "4x + 5y + 6z = 7 \\\\\n",
    "3x - y + z = 4 \\\\\n",
    "2x + y - 2z = 5\n",
    "\\end{cases}\n",
    "$$\n"
   ]
  },
  {
   "cell_type": "code",
   "execution_count": null,
   "metadata": {},
   "outputs": [],
   "source": [
    "a = np.array([[4, 5, 6],\n",
    "              [3, -1, 1],\n",
    "              [2, 1, -2]])\n",
    "\n",
    "b = np.array([7, 4, 5])\n",
    "\n",
    "x, y, z = np.linalg.solve(a, b)\n",
    "\n",
    "print(f\"x = {x}\")\n",
    "print(f\"y = {y}\")\n",
    "print(f\"z = {z}\")"
   ]
  },
  {
   "cell_type": "markdown",
   "metadata": {},
   "source": [
    "\n",
    "Task 4. Given the electrical circuit equations below, solve for $I_1, I_2, I_3$ (currents in the branches):\n",
    "\n",
    "$$\n",
    "\\begin{cases}\n",
    "10I_1 - 2I_2 + 3I_3 = 12 \\\\\n",
    "-2I_1 + 8I_2 - I_3 = -5 \\\\\n",
    "3I_1 - I_2 + 6I_3 = 15\n",
    "\\end{cases}\n",
    "$$\n"
   ]
  },
  {
   "cell_type": "code",
   "execution_count": null,
   "metadata": {},
   "outputs": [],
   "source": [
    "matrix=np.array([[10,-2,3],\n",
    "                [-2,8,-1],\n",
    "                [3,-1,6]])\n",
    "res=np.array([12,-5,15])\n",
    "i1,i2,i3=np.linalg.solve(matrix,res)\n",
    "print(i1,\"= is I1\")\n",
    "print(i2,\"= is I2\")\n",
    "print(i3,\"= is I3\")\n",
    "print(\"End of the task\")\n"
   ]
  },
  {
   "cell_type": "markdown",
   "metadata": {},
   "source": [
    "hbvvyvuyv"
   ]
  }
 ],
 "metadata": {
  "kernelspec": {
   "display_name": "Python 3",
   "language": "python",
   "name": "python3"
  },
  "language_info": {
   "codemirror_mode": {
    "name": "ipython",
    "version": 3
   },
   "file_extension": ".py",
   "mimetype": "text/x-python",
   "name": "python",
   "nbconvert_exporter": "python",
   "pygments_lexer": "ipython3",
   "version": "3.12.9"
  }
 },
 "nbformat": 4,
 "nbformat_minor": 2
}
