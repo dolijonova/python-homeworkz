{
 "cells": [
  {
   "cell_type": "code",
   "execution_count": 2,
   "id": "7c916c6e",
   "metadata": {},
   "outputs": [
    {
     "ename": "DatabaseError",
     "evalue": "Execution failed on sql '\nSELECT c.CustomerId, c.FirstName, c.LastName, COUNT(i.InvoiceId) as InvoiceCount\nFROM customers c\nJOIN invoices i ON c.CustomerId = i.CustomerId\nGROUP BY c.CustomerId\n': no such table: customers",
     "output_type": "error",
     "traceback": [
      "\u001b[31m---------------------------------------------------------------------------\u001b[39m",
      "\u001b[31mOperationalError\u001b[39m                          Traceback (most recent call last)",
      "\u001b[36mFile \u001b[39m\u001b[32mc:\\Users\\User\\AppData\\Local\\Programs\\Python\\Python312\\Lib\\site-packages\\pandas\\io\\sql.py:2674\u001b[39m, in \u001b[36mSQLiteDatabase.execute\u001b[39m\u001b[34m(self, sql, params)\u001b[39m\n\u001b[32m   2673\u001b[39m \u001b[38;5;28;01mtry\u001b[39;00m:\n\u001b[32m-> \u001b[39m\u001b[32m2674\u001b[39m     \u001b[43mcur\u001b[49m\u001b[43m.\u001b[49m\u001b[43mexecute\u001b[49m\u001b[43m(\u001b[49m\u001b[43msql\u001b[49m\u001b[43m,\u001b[49m\u001b[43m \u001b[49m\u001b[43m*\u001b[49m\u001b[43margs\u001b[49m\u001b[43m)\u001b[49m\n\u001b[32m   2675\u001b[39m     \u001b[38;5;28;01mreturn\u001b[39;00m cur\n",
      "\u001b[31mOperationalError\u001b[39m: no such table: customers",
      "\nThe above exception was the direct cause of the following exception:\n",
      "\u001b[31mDatabaseError\u001b[39m                             Traceback (most recent call last)",
      "\u001b[36mCell\u001b[39m\u001b[36m \u001b[39m\u001b[32mIn[2]\u001b[39m\u001b[32m, line 13\u001b[39m\n\u001b[32m      4\u001b[39m conn = sqlite3.connect(\u001b[33m\"\u001b[39m\u001b[33mchinook.db\u001b[39m\u001b[33m\"\u001b[39m)\n\u001b[32m      7\u001b[39m query = \u001b[33m\"\"\"\u001b[39m\n\u001b[32m      8\u001b[39m \u001b[33mSELECT c.CustomerId, c.FirstName, c.LastName, COUNT(i.InvoiceId) as InvoiceCount\u001b[39m\n\u001b[32m      9\u001b[39m \u001b[33mFROM customers c\u001b[39m\n\u001b[32m     10\u001b[39m \u001b[33mJOIN invoices i ON c.CustomerId = i.CustomerId\u001b[39m\n\u001b[32m     11\u001b[39m \u001b[33mGROUP BY c.CustomerId\u001b[39m\n\u001b[32m     12\u001b[39m \u001b[33m\"\"\"\u001b[39m\n\u001b[32m---> \u001b[39m\u001b[32m13\u001b[39m df_invoice_counts = \u001b[43mpd\u001b[49m\u001b[43m.\u001b[49m\u001b[43mread_sql\u001b[49m\u001b[43m(\u001b[49m\u001b[43mquery\u001b[49m\u001b[43m,\u001b[49m\u001b[43m \u001b[49m\u001b[43mconn\u001b[49m\u001b[43m)\u001b[49m\n\u001b[32m     15\u001b[39m \u001b[38;5;28mprint\u001b[39m(\u001b[33m\"\u001b[39m\u001b[33mInvoice Counts per Customer:\u001b[39m\u001b[33m\"\u001b[39m)\n\u001b[32m     16\u001b[39m \u001b[38;5;28mprint\u001b[39m(df_invoice_counts.head())\n",
      "\u001b[36mFile \u001b[39m\u001b[32mc:\\Users\\User\\AppData\\Local\\Programs\\Python\\Python312\\Lib\\site-packages\\pandas\\io\\sql.py:706\u001b[39m, in \u001b[36mread_sql\u001b[39m\u001b[34m(sql, con, index_col, coerce_float, params, parse_dates, columns, chunksize, dtype_backend, dtype)\u001b[39m\n\u001b[32m    704\u001b[39m \u001b[38;5;28;01mwith\u001b[39;00m pandasSQL_builder(con) \u001b[38;5;28;01mas\u001b[39;00m pandas_sql:\n\u001b[32m    705\u001b[39m     \u001b[38;5;28;01mif\u001b[39;00m \u001b[38;5;28misinstance\u001b[39m(pandas_sql, SQLiteDatabase):\n\u001b[32m--> \u001b[39m\u001b[32m706\u001b[39m         \u001b[38;5;28;01mreturn\u001b[39;00m \u001b[43mpandas_sql\u001b[49m\u001b[43m.\u001b[49m\u001b[43mread_query\u001b[49m\u001b[43m(\u001b[49m\n\u001b[32m    707\u001b[39m \u001b[43m            \u001b[49m\u001b[43msql\u001b[49m\u001b[43m,\u001b[49m\n\u001b[32m    708\u001b[39m \u001b[43m            \u001b[49m\u001b[43mindex_col\u001b[49m\u001b[43m=\u001b[49m\u001b[43mindex_col\u001b[49m\u001b[43m,\u001b[49m\n\u001b[32m    709\u001b[39m \u001b[43m            \u001b[49m\u001b[43mparams\u001b[49m\u001b[43m=\u001b[49m\u001b[43mparams\u001b[49m\u001b[43m,\u001b[49m\n\u001b[32m    710\u001b[39m \u001b[43m            \u001b[49m\u001b[43mcoerce_float\u001b[49m\u001b[43m=\u001b[49m\u001b[43mcoerce_float\u001b[49m\u001b[43m,\u001b[49m\n\u001b[32m    711\u001b[39m \u001b[43m            \u001b[49m\u001b[43mparse_dates\u001b[49m\u001b[43m=\u001b[49m\u001b[43mparse_dates\u001b[49m\u001b[43m,\u001b[49m\n\u001b[32m    712\u001b[39m \u001b[43m            \u001b[49m\u001b[43mchunksize\u001b[49m\u001b[43m=\u001b[49m\u001b[43mchunksize\u001b[49m\u001b[43m,\u001b[49m\n\u001b[32m    713\u001b[39m \u001b[43m            \u001b[49m\u001b[43mdtype_backend\u001b[49m\u001b[43m=\u001b[49m\u001b[43mdtype_backend\u001b[49m\u001b[43m,\u001b[49m\n\u001b[32m    714\u001b[39m \u001b[43m            \u001b[49m\u001b[43mdtype\u001b[49m\u001b[43m=\u001b[49m\u001b[43mdtype\u001b[49m\u001b[43m,\u001b[49m\n\u001b[32m    715\u001b[39m \u001b[43m        \u001b[49m\u001b[43m)\u001b[49m\n\u001b[32m    717\u001b[39m     \u001b[38;5;28;01mtry\u001b[39;00m:\n\u001b[32m    718\u001b[39m         _is_table_name = pandas_sql.has_table(sql)\n",
      "\u001b[36mFile \u001b[39m\u001b[32mc:\\Users\\User\\AppData\\Local\\Programs\\Python\\Python312\\Lib\\site-packages\\pandas\\io\\sql.py:2738\u001b[39m, in \u001b[36mSQLiteDatabase.read_query\u001b[39m\u001b[34m(self, sql, index_col, coerce_float, parse_dates, params, chunksize, dtype, dtype_backend)\u001b[39m\n\u001b[32m   2727\u001b[39m \u001b[38;5;28;01mdef\u001b[39;00m\u001b[38;5;250m \u001b[39m\u001b[34mread_query\u001b[39m(\n\u001b[32m   2728\u001b[39m     \u001b[38;5;28mself\u001b[39m,\n\u001b[32m   2729\u001b[39m     sql,\n\u001b[32m   (...)\u001b[39m\u001b[32m   2736\u001b[39m     dtype_backend: DtypeBackend | Literal[\u001b[33m\"\u001b[39m\u001b[33mnumpy\u001b[39m\u001b[33m\"\u001b[39m] = \u001b[33m\"\u001b[39m\u001b[33mnumpy\u001b[39m\u001b[33m\"\u001b[39m,\n\u001b[32m   2737\u001b[39m ) -> DataFrame | Iterator[DataFrame]:\n\u001b[32m-> \u001b[39m\u001b[32m2738\u001b[39m     cursor = \u001b[38;5;28;43mself\u001b[39;49m\u001b[43m.\u001b[49m\u001b[43mexecute\u001b[49m\u001b[43m(\u001b[49m\u001b[43msql\u001b[49m\u001b[43m,\u001b[49m\u001b[43m \u001b[49m\u001b[43mparams\u001b[49m\u001b[43m)\u001b[49m\n\u001b[32m   2739\u001b[39m     columns = [col_desc[\u001b[32m0\u001b[39m] \u001b[38;5;28;01mfor\u001b[39;00m col_desc \u001b[38;5;129;01min\u001b[39;00m cursor.description]\n\u001b[32m   2741\u001b[39m     \u001b[38;5;28;01mif\u001b[39;00m chunksize \u001b[38;5;129;01mis\u001b[39;00m \u001b[38;5;129;01mnot\u001b[39;00m \u001b[38;5;28;01mNone\u001b[39;00m:\n",
      "\u001b[36mFile \u001b[39m\u001b[32mc:\\Users\\User\\AppData\\Local\\Programs\\Python\\Python312\\Lib\\site-packages\\pandas\\io\\sql.py:2686\u001b[39m, in \u001b[36mSQLiteDatabase.execute\u001b[39m\u001b[34m(self, sql, params)\u001b[39m\n\u001b[32m   2683\u001b[39m     \u001b[38;5;28;01mraise\u001b[39;00m ex \u001b[38;5;28;01mfrom\u001b[39;00m\u001b[38;5;250m \u001b[39m\u001b[34;01minner_exc\u001b[39;00m\n\u001b[32m   2685\u001b[39m ex = DatabaseError(\u001b[33mf\u001b[39m\u001b[33m\"\u001b[39m\u001b[33mExecution failed on sql \u001b[39m\u001b[33m'\u001b[39m\u001b[38;5;132;01m{\u001b[39;00msql\u001b[38;5;132;01m}\u001b[39;00m\u001b[33m'\u001b[39m\u001b[33m: \u001b[39m\u001b[38;5;132;01m{\u001b[39;00mexc\u001b[38;5;132;01m}\u001b[39;00m\u001b[33m\"\u001b[39m)\n\u001b[32m-> \u001b[39m\u001b[32m2686\u001b[39m \u001b[38;5;28;01mraise\u001b[39;00m ex \u001b[38;5;28;01mfrom\u001b[39;00m\u001b[38;5;250m \u001b[39m\u001b[34;01mexc\u001b[39;00m\n",
      "\u001b[31mDatabaseError\u001b[39m: Execution failed on sql '\nSELECT c.CustomerId, c.FirstName, c.LastName, COUNT(i.InvoiceId) as InvoiceCount\nFROM customers c\nJOIN invoices i ON c.CustomerId = i.CustomerId\nGROUP BY c.CustomerId\n': no such table: customers"
     ]
    }
   ],
   "source": [
    "import sqlite3\n",
    "import pandas as pd\n",
    "\n",
    "conn = sqlite3.connect(\"chinook.db\")\n",
    "\n",
    "\n",
    "query = \"\"\"\n",
    "SELECT c.CustomerId, c.FirstName, c.LastName, COUNT(i.InvoiceId) as InvoiceCount\n",
    "FROM customers c\n",
    "JOIN invoices i ON c.CustomerId = i.CustomerId\n",
    "GROUP BY c.CustomerId\n",
    "\"\"\"\n",
    "df_invoice_counts = pd.read_sql(query, conn)\n",
    "\n",
    "print(\"Invoice Counts per Customer:\")\n",
    "print(df_invoice_counts.head())\n",
    "\n",
    "conn.close()"
   ]
  },
  {
   "cell_type": "code",
   "execution_count": 4,
   "id": "a1d1cafa",
   "metadata": {},
   "outputs": [
    {
     "name": "stdout",
     "output_type": "stream",
     "text": [
      "\n",
      "Left Join Row Count: 5547\n",
      "Outer Join Row Count: 5547\n"
     ]
    }
   ],
   "source": [
    "\n",
    "df_movie = pd.read_csv(\"movie.csv\")\n",
    "\n",
    "\n",
    "df_color = df_movie[['director_name', 'color']].drop_duplicates()\n",
    "df_reviews = df_movie[['director_name', 'num_critic_for_reviews']].drop_duplicates()\n",
    "\n",
    "\n",
    "df_left = pd.merge(df_color, df_reviews, on='director_name', how='left')\n",
    "\n",
    "df_outer = pd.merge(df_color, df_reviews, on='director_name', how='outer')\n",
    "\n",
    "print(\"\\nLeft Join Row Count:\", len(df_left))\n",
    "print(\"Outer Join Row Count:\", len(df_outer))"
   ]
  },
  {
   "cell_type": "code",
   "execution_count": 5,
   "id": "91c0c15c",
   "metadata": {},
   "outputs": [
    {
     "name": "stdout",
     "output_type": "stream",
     "text": [
      "\n",
      "Titanic Class Statistics:\n",
      "              Age        Fare  Count\n",
      "Pclass                              \n",
      "1       38.233441  18177.4125    216\n",
      "2       29.877630   3801.8417    184\n",
      "3       25.140620   6714.6951    491\n"
     ]
    }
   ],
   "source": [
    "df_titanic = pd.read_excel(\"titanic.xlsx\")\n",
    "df_class_stats = df_titanic.groupby('Pclass').agg({\n",
    "    'Age': 'mean',\n",
    "    'Fare': 'sum',\n",
    "    'PassengerId': 'count'\n",
    "}).rename(columns={'PassengerId': 'Count'})\n",
    "\n",
    "print(\"\\nTitanic Class Statistics:\")\n",
    "print(df_class_stats)"
   ]
  },
  {
   "cell_type": "code",
   "execution_count": null,
   "id": "1a633263",
   "metadata": {},
   "outputs": [],
   "source": [
    "df_movie_group = df_movie.groupby(['color', 'director_name']).agg({\n",
    "    'num_critic_for_reviews': 'sum',\n",
    "    'duration': 'mean'\n",
    "})\n",
    "\n",
    "print(\"\\nMovie Group Stats:\")\n",
    "print(df_movie_group.head())"
   ]
  },
  {
   "cell_type": "code",
   "execution_count": null,
   "id": "b1e2deac",
   "metadata": {},
   "outputs": [],
   "source": [
    "df_flights = pd.read_parquet(\"flights.parquet\")\n",
    "\n",
    "df_flight_stats = df_flights.groupby(['Year', 'Month']).agg({\n",
    "    'FlightNum': 'count',\n",
    "    'ArrDelay': 'mean',\n",
    "    'DepDelay': 'max'\n",
    "})\n",
    "\n",
    "print(\"\\nFlight Statistics by Year/Month:\")\n",
    "print(df_flight_stats.head())"
   ]
  },
  {
   "cell_type": "code",
   "execution_count": null,
   "id": "2b2e5871",
   "metadata": {},
   "outputs": [],
   "source": [
    "def age_group(age):\n",
    "    return 'Child' if age < 18 else 'Adult'\n",
    "\n",
    "df_titanic['Age_Group'] = df_titanic['Age'].apply(age_group)\n",
    "print(\"\\nAge Groups Added:\")\n",
    "print(df_titanic[['Age', 'Age_Group']].head())"
   ]
  },
  {
   "cell_type": "code",
   "execution_count": null,
   "id": "2e01eb03",
   "metadata": {},
   "outputs": [],
   "source": [
    "df_employee = pd.read_csv(\"employee.csv\")\n",
    "\n",
    "def normalize(group):\n",
    "    group['NormalizedSalary'] = group['Salary'] / group['Salary'].max()\n",
    "    return group\n",
    "\n",
    "df_normalized = df_employee.groupby('Department').apply(normalize)\n",
    "print(\"\\nNormalized Salaries:\")\n",
    "print(df_normalized.head())"
   ]
  },
  {
   "cell_type": "code",
   "execution_count": null,
   "id": "2d15d039",
   "metadata": {},
   "outputs": [],
   "source": [
    "def duration_class(duration):\n",
    "    if duration < 60: return 'Short'\n",
    "    elif 60 <= duration <= 120: return 'Medium'\n",
    "    else: return 'Long'\n",
    "\n",
    "df_movie['Duration_Class'] = df_movie['duration'].apply(duration_class)\n",
    "print(\"\\nMovie Duration Classes:\")\n",
    "print(df_movie[['duration', 'Duration_Class']].head())"
   ]
  },
  {
   "cell_type": "code",
   "execution_count": null,
   "id": "1c9ca535",
   "metadata": {},
   "outputs": [],
   "source": [
    "def titanic_pipeline(df):\n",
    "    return (df\n",
    "        .query('Survived == 1')\n",
    "        .assign(Age=lambda x: x['Age'].fillna(x['Age'].mean()),\n",
    "                Fare_Per_Age=lambda x: x['Fare'] / x['Age'])\n",
    "    )\n",
    "\n",
    "df_titanic_clean = titanic_pipeline(df_titanic)\n",
    "print(\"\\nTitanic Pipeline Result:\")\n",
    "print(df_titanic_clean.head())"
   ]
  },
  {
   "cell_type": "code",
   "execution_count": null,
   "id": "e3ce70a4",
   "metadata": {},
   "outputs": [],
   "source": [
    "def flights_pipeline(df):\n",
    "    return (df\n",
    "        .query('DepDelay > 30')\n",
    "        .assign(Delay_Per_Hour=lambda x: x['DepDelay'] / (x['AirTime']/60))\n",
    "    )\n",
    "\n",
    "df_flights_clean = flights_pipeline(df_flights)\n",
    "print(\"\\nFlights Pipeline Result:\")\n",
    "print(df_flights_clean.head())"
   ]
  }
 ],
 "metadata": {
  "kernelspec": {
   "display_name": "Python 3",
   "language": "python",
   "name": "python3"
  },
  "language_info": {
   "codemirror_mode": {
    "name": "ipython",
    "version": 3
   },
   "file_extension": ".py",
   "mimetype": "text/x-python",
   "name": "python",
   "nbconvert_exporter": "python",
   "pygments_lexer": "ipython3",
   "version": "3.12.9"
  }
 },
 "nbformat": 4,
 "nbformat_minor": 5
}
