{
 "cells": [
  {
   "cell_type": "code",
   "execution_count": 7,
   "metadata": {},
   "outputs": [],
   "source": [
    "class BookNotFoundException(Exception):\n",
    "    def __init__(self, bookTitle):\n",
    "        self.bookTitle=bookTitle\n",
    "        self.message=f\"The book {self.bookTitle} was not found in the library\"\n",
    "        super().__init__(self.message)\n",
    "    def __str__(self):\n",
    "        return f\"BookNotFoundException: {self.message}\""
   ]
  },
  {
   "cell_type": "code",
   "execution_count": 8,
   "metadata": {},
   "outputs": [],
   "source": [
    "class BookAlreadyBorrowedException(Exception):\n",
    "    def __init__(self, message):\n",
    "        self.message=message\n",
    "        super().__init__(self.message)\n",
    "    def __str__(self):\n",
    "        return f\"BookAlreadyBOrrowedException: {self.message}\"\n",
    "    "
   ]
  },
  {
   "cell_type": "code",
   "execution_count": 9,
   "metadata": {},
   "outputs": [],
   "source": [
    "class MemberLimitExceededException(Exception):\n",
    "    def __init__(self, message):\n",
    "        self.message=message\n",
    "        super().__init__(self.message)\n",
    "    def __str__(self):\n",
    "        return f\"MemberLimitExceeded: {self.message}\""
   ]
  },
  {
   "cell_type": "code",
   "execution_count": 10,
   "metadata": {},
   "outputs": [],
   "source": [
    "class Book:\n",
    "    def __init__(self,title,author):\n",
    "        self.title=title\n",
    "        self.author=author\n",
    "        self.is_borrowed=False"
   ]
  },
  {
   "cell_type": "code",
   "execution_count": 11,
   "metadata": {},
   "outputs": [],
   "source": [
    "class Member:\n",
    "    max_books=3\n",
    "    def __init__(self,name):\n",
    "        self.name=name\n",
    "        self.borrowed_book=[]\n",
    "    def borrow_book(self,book):\n",
    "        if len(self.borrowed_book)>=self.max_books:\n",
    "            raise MemberLimitExceededException(f\"{self.name} has been borrowed {self.max_books} books.\")\n",
    "        else:\n",
    "            self.borrowed_book.append(book)\n",
    "            book.is_borrowed=True\n"
   ]
  },
  {
   "cell_type": "code",
   "execution_count": 12,
   "metadata": {},
   "outputs": [],
   "source": [
    "class Library:\n",
    "    def __init__(self):\n",
    "        self.books=[]\n",
    "        self.members=[]\n",
    "\n",
    "    def add_book(self,book):\n",
    "        self.books.append(book)\n",
    "\n",
    "    def add_member(self,member):\n",
    "        self.members.append(member)\n",
    "\n",
    "    def borrow_book(self,member,book_title):\n",
    "        book=None\n",
    "        for b in self.books:\n",
    "            if b.title == book_title:\n",
    "                book=b\n",
    "                break\n",
    "        if not book:\n",
    "            raise BookNotFoundException(f\"The book is not found in the library\")\n",
    "        if book.is_borrowed:\n",
    "            raise BookAlreadyBorrowedException\n",
    "        member.borrow_book(book)"
   ]
  },
  {
   "cell_type": "code",
   "execution_count": null,
   "metadata": {},
   "outputs": [
    {
     "name": "stdout",
     "output_type": "stream",
     "text": [
      "John Doe borrowed 'Python Programming'\n",
      "BookNotFoundException: The book The book is not found in the library was not found in the library\n",
      "BookNotFoundException: The book The book is not found in the library was not found in the library\n"
     ]
    }
   ],
   "source": [
    "library = Library()\n",
    "\n",
    "# Add books to the library\n",
    "book1 = Book(\"Python Programming\", \"John Smith\")\n",
    "book2 = Book(\"Clean Code\", \"Robert Martin\")\n",
    "library.add_book(book1)\n",
    "library.add_book(book2)\n",
    "\n",
    "# Add members to the library\n",
    "member1 = Member(\"John Doe\")\n",
    "library.add_member(member1)\n",
    "\n",
    "# Borrow a book\n",
    "try:\n",
    "    library.borrow_book(member1, \"Python Programming\")\n",
    "    print(f\"{member1.name} borrowed 'Python Programming'\")\n",
    "except (BookNotFoundException, BookAlreadyBorrowedException, MemberLimitExceededException) as e:\n",
    "    print(e)\n",
    "\n",
    "# Try to borrow a non-existent book\n",
    "try:\n",
    "    library.borrow_book(member1, \"Non-Existent Book\")\n",
    "except (BookNotFoundException, BookAlreadyBorrowedException, MemberLimitExceededException) as e:\n",
    "    print(e)  # Output: \"BookNotFoundException: The book 'Non-Existent Book' was not found in the library.\"\n",
    "\n",
    "# Try to borrow more than the allowed number of books\n",
    "try:\n",
    "    library.borrow_book(member1, \"Clean Code\")\n",
    "    library.borrow_book(member1, \"Another Book\")  # This will raise MemberLimitExceededException\n",
    "except (BookNotFoundException, BookAlreadyBorrowedException, MemberLimitExceededException) as e:\n",
    "    print(e)  # Output: \"MemberLimitExceeded: John Doe has already borrowed 3 books.\""
   ]
  }
 ],
 "metadata": {
  "kernelspec": {
   "display_name": "Python 3",
   "language": "python",
   "name": "python3"
  },
  "language_info": {
   "codemirror_mode": {
    "name": "ipython",
    "version": 3
   },
   "file_extension": ".py",
   "mimetype": "text/x-python",
   "name": "python",
   "nbconvert_exporter": "python",
   "pygments_lexer": "ipython3",
   "version": "3.12.9"
  }
 },
 "nbformat": 4,
 "nbformat_minor": 2
}
